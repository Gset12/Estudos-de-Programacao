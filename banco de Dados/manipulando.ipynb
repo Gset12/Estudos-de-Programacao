{
 "cells": [
  {
   "cell_type": "markdown",
   "metadata": {},
   "source": [
    "# Conectando ao Banco de Dados"
   ]
  },
  {
   "cell_type": "code",
   "execution_count": 5,
   "metadata": {},
   "outputs": [],
   "source": [
    "import sqlalchemy\n",
    "engine = sqlalchemy.create_engine(\"sqlite:///usuarios.db\", echo=True)"
   ]
  },
  {
   "cell_type": "markdown",
   "metadata": {},
   "source": [
    "# Declarando o Mapeamento"
   ]
  },
  {
   "cell_type": "code",
   "execution_count": 6,
   "metadata": {},
   "outputs": [],
   "source": [
    "from sqlalchemy.orm import declarative_base\n",
    "Base = declarative_base()"
   ]
  },
  {
   "cell_type": "code",
   "execution_count": 9,
   "metadata": {},
   "outputs": [],
   "source": [
    "from sqlalchemy import Column, Integer, String\n",
    "class User(Base):\n",
    "    __tablename__ = \"User\"\n",
    "\n",
    "    id = Column(Integer, primary_key=True)\n",
    "    name = Column(String)\n",
    "    password = Column(String)\n",
    "\n",
    "    def __repr__(self):\n",
    "        return User(name = self.name, password = self.password)"
   ]
  },
  {
   "cell_type": "markdown",
   "metadata": {},
   "source": [
    "# Criar Tabela"
   ]
  },
  {
   "cell_type": "code",
   "execution_count": 10,
   "metadata": {},
   "outputs": [
    {
     "name": "stdout",
     "output_type": "stream",
     "text": [
      "2022-11-19 22:41:37,921 INFO sqlalchemy.engine.Engine BEGIN (implicit)\n",
      "2022-11-19 22:41:37,921 INFO sqlalchemy.engine.Engine PRAGMA main.table_info(\"User\")\n",
      "2022-11-19 22:41:37,922 INFO sqlalchemy.engine.Engine [raw sql] ()\n",
      "2022-11-19 22:41:37,925 INFO sqlalchemy.engine.Engine COMMIT\n"
     ]
    }
   ],
   "source": [
    "Base.metadata.create_all(engine)"
   ]
  },
  {
   "cell_type": "markdown",
   "metadata": {},
   "source": [
    "# Criar uma Sessão"
   ]
  },
  {
   "cell_type": "code",
   "execution_count": 7,
   "metadata": {},
   "outputs": [],
   "source": [
    "from sqlalchemy.orm import sessionmaker\n",
    "Session = sessionmaker(bind = engine)\n",
    "Session = Session()"
   ]
  },
  {
   "cell_type": "markdown",
   "metadata": {},
   "source": [
    "# Instanciar e Adcionar Objetos (CREATE)"
   ]
  },
  {
   "cell_type": "code",
   "execution_count": 11,
   "metadata": {},
   "outputs": [],
   "source": [
    "from sqlalchemy import select"
   ]
  },
  {
   "cell_type": "code",
   "execution_count": 3,
   "metadata": {},
   "outputs": [
    {
     "ename": "NameError",
     "evalue": "name 'Session' is not defined",
     "output_type": "error",
     "traceback": [
      "\u001b[0;31m---------------------------------------------------------------------------\u001b[0m",
      "\u001b[0;31mNameError\u001b[0m                                 Traceback (most recent call last)",
      "Cell \u001b[0;32mIn [3], line 1\u001b[0m\n\u001b[0;32m----> 1\u001b[0m Session\u001b[39m.\u001b[39madd_all([User(name\u001b[39m=\u001b[39m\u001b[39m\"\u001b[39m\u001b[39mGui\u001b[39m\u001b[39m\"\u001b[39m, password\u001b[39m=\u001b[39m\u001b[39m\"\u001b[39m\u001b[39mMinha29Esposinha25Gaby\u001b[39m\u001b[39m\"\u001b[39m), User(name\u001b[39m=\u001b[39m\u001b[39m\"\u001b[39m\u001b[39mGaby\u001b[39m\u001b[39m\"\u001b[39m, password\u001b[39m=\u001b[39m\u001b[39m\"\u001b[39m\u001b[39mGaby25Belíssima\u001b[39m\u001b[39m\"\u001b[39m)])\n\u001b[1;32m      2\u001b[0m Session\u001b[39m.\u001b[39mcommit()\n",
      "\u001b[0;31mNameError\u001b[0m: name 'Session' is not defined"
     ]
    }
   ],
   "source": [
    "Session.add_all([User(name=\"Gui\", password=\"Minha29Esposinha25Gaby\"), User(name=\"Gaby\", password=\"Gaby25Belíssima\")])\n",
    "Session.commit()"
   ]
  },
  {
   "cell_type": "markdown",
   "metadata": {},
   "source": [
    "# Consultar Objetos (SELECT)"
   ]
  },
  {
   "cell_type": "code",
   "execution_count": 12,
   "metadata": {},
   "outputs": [
    {
     "name": "stdout",
     "output_type": "stream",
     "text": [
      "2022-11-20 14:57:08,461 INFO sqlalchemy.engine.Engine SELECT \"User\".id AS \"User_id\", \"User\".name AS \"User_name\", \"User\".password AS \"User_password\" \n",
      "FROM \"User\" \n",
      "WHERE \"User\".name = ?\n",
      " LIMIT ? OFFSET ?\n",
      "2022-11-20 14:57:08,462 INFO sqlalchemy.engine.Engine [generated in 0.00078s] ('Gui', 1, 0)\n"
     ]
    }
   ],
   "source": [
    "pesquisa_usu = input(\"Usuário: \")\n",
    "query_user = Session.query(User).filter(User.name==pesquisa_usu).first()"
   ]
  },
  {
   "cell_type": "code",
   "execution_count": 13,
   "metadata": {},
   "outputs": [
    {
     "data": {
      "text/plain": [
       "'Gui'"
      ]
     },
     "execution_count": 13,
     "metadata": {},
     "output_type": "execute_result"
    }
   ],
   "source": [
    "query_user.name"
   ]
  },
  {
   "cell_type": "code",
   "execution_count": 9,
   "metadata": {},
   "outputs": [
    {
     "name": "stdout",
     "output_type": "stream",
     "text": [
      "2022-11-20 14:55:00,204 INFO sqlalchemy.engine.Engine SELECT \"User\".id AS \"User_id\", \"User\".name AS \"User_name\", \"User\".password AS \"User_password\" \n",
      "FROM \"User\" ORDER BY \"User\".id\n",
      "2022-11-20 14:55:00,206 INFO sqlalchemy.engine.Engine [generated in 0.00165s] ()\n",
      "Gui\n",
      "Gaby\n"
     ]
    }
   ],
   "source": [
    "for instance in Session.query(User).order_by(User.id):\n",
    "    print(instance.name)"
   ]
  },
  {
   "cell_type": "code",
   "execution_count": 10,
   "metadata": {},
   "outputs": [
    {
     "name": "stdout",
     "output_type": "stream",
     "text": [
      "2022-11-20 15:05:16,606 INFO sqlalchemy.engine.Engine BEGIN (implicit)\n",
      "2022-11-20 15:05:16,611 INFO sqlalchemy.engine.Engine SELECT \"User\".id AS \"User_id\", \"User\".name AS \"User_name\", \"User\".password AS \"User_password\" \n",
      "FROM \"User\" \n",
      "WHERE \"User\".name = ?\n",
      " LIMIT ? OFFSET ?\n",
      "2022-11-20 15:05:16,611 INFO sqlalchemy.engine.Engine [generated in 0.00077s] ('Gaby', 1, 0)\n"
     ]
    },
    {
     "data": {
      "text/plain": [
       "'Gaby'"
      ]
     },
     "execution_count": 10,
     "metadata": {},
     "output_type": "execute_result"
    }
   ],
   "source": [
    "pesquisa = input(\"Usuário: \")\n",
    "ver_usu = Session.query(User).filter(User.name==pesquisa).first()\n",
    "ver_usu.name\n"
   ]
  },
  {
   "cell_type": "code",
   "execution_count": 22,
   "metadata": {},
   "outputs": [
    {
     "name": "stdout",
     "output_type": "stream",
     "text": [
      "2022-11-20 15:21:25,886 INFO sqlalchemy.engine.Engine SELECT \"User\".id, \"User\".name, \"User\".password \n",
      "FROM \"User\" \n",
      "WHERE \"User\".name = ?\n",
      "2022-11-20 15:21:25,888 INFO sqlalchemy.engine.Engine [cached since 436.4s ago] ('Gaby',)\n",
      "Gaby\n",
      "2022-11-20 15:21:31,445 INFO sqlalchemy.engine.Engine SELECT \"User\".id, \"User\".name, \"User\".password \n",
      "FROM \"User\" \n",
      "WHERE \"User\".name = ?\n",
      "2022-11-20 15:21:31,446 INFO sqlalchemy.engine.Engine [cached since 441.9s ago] ('Gui',)\n",
      "Gui\n"
     ]
    }
   ],
   "source": [
    "def pesquisar_usuario():\n",
    "    qtd_usu = int(input(\"Quantos usuários deseja selecionar: \"))\n",
    "    cont = 1\n",
    "    while cont <= qtd_usu:\n",
    "        nome = input(\"Usário: \")\n",
    "        stmt = select(User).where(User.name == nome)\n",
    "        result = Session.execute(stmt)\n",
    "        for user_obj in result.scalars():\n",
    "            print(f\"{user_obj.name}\")\n",
    "    \n",
    "        cont += 1\n",
    "\n",
    "pesquisar_usuario()"
   ]
  },
  {
   "cell_type": "code",
   "execution_count": 24,
   "metadata": {},
   "outputs": [
    {
     "ename": "TclError",
     "evalue": "no display name and no $DISPLAY environment variable",
     "output_type": "error",
     "traceback": [
      "\u001b[0;31m---------------------------------------------------------------------------\u001b[0m",
      "\u001b[0;31mTclError\u001b[0m                                  Traceback (most recent call last)",
      "Cell \u001b[0;32mIn [24], line 3\u001b[0m\n\u001b[1;32m      1\u001b[0m \u001b[39mimport\u001b[39;00m \u001b[39mtkinter\u001b[39;00m\n\u001b[0;32m----> 3\u001b[0m janela \u001b[39m=\u001b[39m tkinter\u001b[39m.\u001b[39;49mTk()\n\u001b[1;32m      4\u001b[0m janela\u001b[39m.\u001b[39mgeometry(\u001b[39m\"\u001b[39m\u001b[39m400x400\u001b[39m\u001b[39m\"\u001b[39m)\n\u001b[1;32m      6\u001b[0m janela\u001b[39m.\u001b[39mmainloop()\n",
      "File \u001b[0;32m~/.python/current/lib/python3.10/tkinter/__init__.py:2299\u001b[0m, in \u001b[0;36mTk.__init__\u001b[0;34m(self, screenName, baseName, className, useTk, sync, use)\u001b[0m\n\u001b[1;32m   2297\u001b[0m         baseName \u001b[39m=\u001b[39m baseName \u001b[39m+\u001b[39m ext\n\u001b[1;32m   2298\u001b[0m interactive \u001b[39m=\u001b[39m \u001b[39mFalse\u001b[39;00m\n\u001b[0;32m-> 2299\u001b[0m \u001b[39mself\u001b[39m\u001b[39m.\u001b[39mtk \u001b[39m=\u001b[39m _tkinter\u001b[39m.\u001b[39;49mcreate(screenName, baseName, className, interactive, wantobjects, useTk, sync, use)\n\u001b[1;32m   2300\u001b[0m \u001b[39mif\u001b[39;00m useTk:\n\u001b[1;32m   2301\u001b[0m     \u001b[39mself\u001b[39m\u001b[39m.\u001b[39m_loadtk()\n",
      "\u001b[0;31mTclError\u001b[0m: no display name and no $DISPLAY environment variable"
     ]
    }
   ],
   "source": [
    "import tkinter\n",
    "\n",
    "janela = tkinter.Tk()\n",
    "janela.geometry(\"400x400\")\n",
    "\n",
    "janela.mainloop()"
   ]
  },
  {
   "cell_type": "markdown",
   "metadata": {},
   "source": [
    "# Deletar um dado (DELETE)"
   ]
  },
  {
   "cell_type": "code",
   "execution_count": 26,
   "metadata": {},
   "outputs": [
    {
     "name": "stdout",
     "output_type": "stream",
     "text": [
      "2022-11-19 22:44:03,857 INFO sqlalchemy.engine.Engine SELECT \"User\".id AS \"User_id\", \"User\".name AS \"User_name\", \"User\".password AS \"User_password\" \n",
      "FROM \"User\" \n",
      "WHERE \"User\".name = ?\n",
      " LIMIT ? OFFSET ?\n",
      "2022-11-19 22:44:03,863 INFO sqlalchemy.engine.Engine [cached since 141.4s ago] ('Gui', 1, 0)\n",
      "2022-11-19 22:44:03,865 INFO sqlalchemy.engine.Engine DELETE FROM \"User\" WHERE \"User\".id = ?\n",
      "2022-11-19 22:44:03,866 INFO sqlalchemy.engine.Engine [cached since 131s ago] (10,)\n",
      "2022-11-19 22:44:03,868 INFO sqlalchemy.engine.Engine COMMIT\n"
     ]
    }
   ],
   "source": [
    "user = Session.query(User).filter_by(name=\"Gui\").first()\n",
    "Session.delete(user)\n",
    "Session.commit()"
   ]
  }
 ],
 "metadata": {
  "kernelspec": {
   "display_name": "Python 3.10.4 64-bit",
   "language": "python",
   "name": "python3"
  },
  "language_info": {
   "codemirror_mode": {
    "name": "ipython",
    "version": 3
   },
   "file_extension": ".py",
   "mimetype": "text/x-python",
   "name": "python",
   "nbconvert_exporter": "python",
   "pygments_lexer": "ipython3",
   "version": "3.10.4"
  },
  "orig_nbformat": 4,
  "vscode": {
   "interpreter": {
    "hash": "3ad933181bd8a04b432d3370b9dc3b0662ad032c4dfaa4e4f1596c548f763858"
   }
  }
 },
 "nbformat": 4,
 "nbformat_minor": 2
}
