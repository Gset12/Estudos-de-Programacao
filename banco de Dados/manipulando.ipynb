{
 "cells": [
  {
   "cell_type": "markdown",
   "metadata": {},
   "source": [
    "# Conectando ao Banco de Dados"
   ]
  },
  {
   "cell_type": "code",
   "execution_count": 1,
   "metadata": {},
   "outputs": [],
   "source": [
    "import sqlalchemy\n",
    "engine = sqlalchemy.create_engine(\"sqlite:///usuarios.db\", echo=True)"
   ]
  },
  {
   "cell_type": "markdown",
   "metadata": {},
   "source": [
    "# Declarando o Mapeamento"
   ]
  },
  {
   "cell_type": "code",
   "execution_count": 2,
   "metadata": {},
   "outputs": [],
   "source": [
    "from sqlalchemy.orm import declarative_base\n",
    "Base = declarative_base()"
   ]
  },
  {
   "cell_type": "code",
   "execution_count": 3,
   "metadata": {},
   "outputs": [],
   "source": [
    "from sqlalchemy import Column, Integer, String\n",
    "class User(Base):\n",
    "    __tablename__ = \"User\"\n",
    "\n",
    "    id = Column(Integer, primary_key=True)\n",
    "    name = Column(String)\n",
    "    password = Column(String)\n",
    "\n",
    "    def __repr__(self):\n",
    "        return User(name = self.name, password = self.password)"
   ]
  },
  {
   "cell_type": "markdown",
   "metadata": {},
   "source": [
    "# Criar Tabela"
   ]
  },
  {
   "cell_type": "code",
   "execution_count": 10,
   "metadata": {},
   "outputs": [
    {
     "name": "stdout",
     "output_type": "stream",
     "text": [
      "2022-11-19 22:41:37,921 INFO sqlalchemy.engine.Engine BEGIN (implicit)\n",
      "2022-11-19 22:41:37,921 INFO sqlalchemy.engine.Engine PRAGMA main.table_info(\"User\")\n",
      "2022-11-19 22:41:37,922 INFO sqlalchemy.engine.Engine [raw sql] ()\n",
      "2022-11-19 22:41:37,925 INFO sqlalchemy.engine.Engine COMMIT\n"
     ]
    }
   ],
   "source": [
    "Base.metadata.create_all(engine)"
   ]
  },
  {
   "cell_type": "markdown",
   "metadata": {},
   "source": [
    "# Criar uma Sessão"
   ]
  },
  {
   "cell_type": "code",
   "execution_count": 4,
   "metadata": {},
   "outputs": [],
   "source": [
    "from sqlalchemy.orm import sessionmaker\n",
    "Session = sessionmaker(bind = engine)\n",
    "Session = Session()"
   ]
  },
  {
   "cell_type": "markdown",
   "metadata": {},
   "source": [
    "# Instanciar e Adcionar Objetos (CREATE)"
   ]
  },
  {
   "cell_type": "code",
   "execution_count": 5,
   "metadata": {},
   "outputs": [],
   "source": [
    "from sqlalchemy import select"
   ]
  },
  {
   "cell_type": "code",
   "execution_count": 8,
   "metadata": {},
   "outputs": [
    {
     "name": "stdout",
     "output_type": "stream",
     "text": [
      "2022-11-25 23:31:05,476 INFO sqlalchemy.engine.Engine INSERT INTO \"User\" (name, password) VALUES (?, ?)\n",
      "2022-11-25 23:31:05,480 INFO sqlalchemy.engine.Engine [generated in 0.00393s] ('Fulano', 'Fulano123!')\n",
      "2022-11-25 23:31:05,482 INFO sqlalchemy.engine.Engine INSERT INTO \"User\" (name, password) VALUES (?, ?)\n",
      "2022-11-25 23:31:05,483 INFO sqlalchemy.engine.Engine [cached since 0.007046s ago] ('Ciclano', 'Ciclanoshaolin123!')\n",
      "2022-11-25 23:31:05,485 INFO sqlalchemy.engine.Engine COMMIT\n"
     ]
    }
   ],
   "source": [
    "Session.add_all([User(name=\"Fulano\", password=\"Fulano123!\"), User(name=\"Ciclano\", password=\"Ciclanoshaolin123!\")])\n",
    "Session.commit()"
   ]
  },
  {
   "cell_type": "markdown",
   "metadata": {},
   "source": [
    "# Consultar Objetos (SELECT)"
   ]
  },
  {
   "cell_type": "code",
   "execution_count": 12,
   "metadata": {},
   "outputs": [
    {
     "name": "stdout",
     "output_type": "stream",
     "text": [
      "2022-11-20 14:57:08,461 INFO sqlalchemy.engine.Engine SELECT \"User\".id AS \"User_id\", \"User\".name AS \"User_name\", \"User\".password AS \"User_password\" \n",
      "FROM \"User\" \n",
      "WHERE \"User\".name = ?\n",
      " LIMIT ? OFFSET ?\n",
      "2022-11-20 14:57:08,462 INFO sqlalchemy.engine.Engine [generated in 0.00078s] ('Gui', 1, 0)\n"
     ]
    }
   ],
   "source": [
    "pesquisa_usu = input(\"Usuário: \")\n",
    "query_user = Session.query(User).filter(User.name==pesquisa_usu).first()"
   ]
  },
  {
   "cell_type": "code",
   "execution_count": 13,
   "metadata": {},
   "outputs": [
    {
     "data": {
      "text/plain": [
       "'Gui'"
      ]
     },
     "execution_count": 13,
     "metadata": {},
     "output_type": "execute_result"
    }
   ],
   "source": [
    "query_user.name"
   ]
  },
  {
   "cell_type": "code",
   "execution_count": 9,
   "metadata": {},
   "outputs": [
    {
     "name": "stdout",
     "output_type": "stream",
     "text": [
      "2022-11-20 14:55:00,204 INFO sqlalchemy.engine.Engine SELECT \"User\".id AS \"User_id\", \"User\".name AS \"User_name\", \"User\".password AS \"User_password\" \n",
      "FROM \"User\" ORDER BY \"User\".id\n",
      "2022-11-20 14:55:00,206 INFO sqlalchemy.engine.Engine [generated in 0.00165s] ()\n",
      "Gui\n",
      "Gaby\n"
     ]
    }
   ],
   "source": [
    "for instance in Session.query(User).order_by(User.id):\n",
    "    print(instance.name)"
   ]
  },
  {
   "cell_type": "code",
   "execution_count": 7,
   "metadata": {},
   "outputs": [
    {
     "name": "stdout",
     "output_type": "stream",
     "text": [
      "2022-11-25 23:29:57,417 INFO sqlalchemy.engine.Engine SELECT \"User\".id AS \"User_id\", \"User\".name AS \"User_name\", \"User\".password AS \"User_password\" \n",
      "FROM \"User\" \n",
      "WHERE \"User\".name = ?\n",
      " LIMIT ? OFFSET ?\n",
      "2022-11-25 23:29:57,418 INFO sqlalchemy.engine.Engine [cached since 34.32s ago] ('Gaby', 1, 0)\n"
     ]
    },
    {
     "data": {
      "text/plain": [
       "'Gaby25Belíssima'"
      ]
     },
     "execution_count": 7,
     "metadata": {},
     "output_type": "execute_result"
    }
   ],
   "source": [
    "pesquisa = input(\"Usuário: \")\n",
    "ver_usu = Session.query(User).filter(User.name==pesquisa).first()\n",
    "ver_usu.name\n",
    "ver_usu.password"
   ]
  },
  {
   "cell_type": "code",
   "execution_count": 22,
   "metadata": {},
   "outputs": [
    {
     "name": "stdout",
     "output_type": "stream",
     "text": [
      "2022-11-20 15:21:25,886 INFO sqlalchemy.engine.Engine SELECT \"User\".id, \"User\".name, \"User\".password \n",
      "FROM \"User\" \n",
      "WHERE \"User\".name = ?\n",
      "2022-11-20 15:21:25,888 INFO sqlalchemy.engine.Engine [cached since 436.4s ago] ('Gaby',)\n",
      "Gaby\n",
      "2022-11-20 15:21:31,445 INFO sqlalchemy.engine.Engine SELECT \"User\".id, \"User\".name, \"User\".password \n",
      "FROM \"User\" \n",
      "WHERE \"User\".name = ?\n",
      "2022-11-20 15:21:31,446 INFO sqlalchemy.engine.Engine [cached since 441.9s ago] ('Gui',)\n",
      "Gui\n"
     ]
    }
   ],
   "source": [
    "def pesquisar_usuario():\n",
    "    qtd_usu = int(input(\"Quantos usuários deseja selecionar: \"))\n",
    "    cont = 1\n",
    "    while cont <= qtd_usu:\n",
    "        nome = input(\"Usário: \")\n",
    "        stmt = select(User).where(User.name == nome)\n",
    "        result = Session.execute(stmt)\n",
    "        for user_obj in result.scalars():\n",
    "            print(f\"{user_obj.name}\")\n",
    "    \n",
    "        cont += 1\n",
    "\n",
    "pesquisar_usuario()"
   ]
  },
  {
   "cell_type": "markdown",
   "metadata": {},
   "source": [
    "# Deletar um dado (DELETE)"
   ]
  },
  {
   "cell_type": "code",
   "execution_count": 26,
   "metadata": {},
   "outputs": [
    {
     "name": "stdout",
     "output_type": "stream",
     "text": [
      "2022-11-19 22:44:03,857 INFO sqlalchemy.engine.Engine SELECT \"User\".id AS \"User_id\", \"User\".name AS \"User_name\", \"User\".password AS \"User_password\" \n",
      "FROM \"User\" \n",
      "WHERE \"User\".name = ?\n",
      " LIMIT ? OFFSET ?\n",
      "2022-11-19 22:44:03,863 INFO sqlalchemy.engine.Engine [cached since 141.4s ago] ('Gui', 1, 0)\n",
      "2022-11-19 22:44:03,865 INFO sqlalchemy.engine.Engine DELETE FROM \"User\" WHERE \"User\".id = ?\n",
      "2022-11-19 22:44:03,866 INFO sqlalchemy.engine.Engine [cached since 131s ago] (10,)\n",
      "2022-11-19 22:44:03,868 INFO sqlalchemy.engine.Engine COMMIT\n"
     ]
    }
   ],
   "source": [
    "user = Session.query(User).filter_by(name=\"Gui\").first()\n",
    "Session.delete(user)\n",
    "Session.commit()"
   ]
  }
 ],
 "metadata": {
  "kernelspec": {
   "display_name": "Python 3.10.4 64-bit",
   "language": "python",
   "name": "python3"
  },
  "language_info": {
   "codemirror_mode": {
    "name": "ipython",
    "version": 3
   },
   "file_extension": ".py",
   "mimetype": "text/x-python",
   "name": "python",
   "nbconvert_exporter": "python",
   "pygments_lexer": "ipython3",
   "version": "3.10.4"
  },
  "orig_nbformat": 4,
  "vscode": {
   "interpreter": {
    "hash": "3ad933181bd8a04b432d3370b9dc3b0662ad032c4dfaa4e4f1596c548f763858"
   }
  }
 },
 "nbformat": 4,
 "nbformat_minor": 2
}
